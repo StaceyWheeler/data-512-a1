{
 "cells": [
  {
   "cell_type": "code",
   "execution_count": 1,
   "metadata": {},
   "outputs": [],
   "source": [
    "import json\n",
    "import requests\n",
    "\n",
    "import os"
   ]
  },
  {
   "cell_type": "code",
   "execution_count": 2,
   "metadata": {},
   "outputs": [],
   "source": [
    "endpoint_legacy = 'https://wikimedia.org/api/rest_v1/metrics/legacy/pagecounts/aggregate/{project}/{access-site}/{granularity}/{start}/{end}'\n",
    "endpoint_pageviews = 'https://wikimedia.org/api/rest_v1/metrics/pageviews/aggregate/{project}/{access}/{agent}/{granularity}/{start}/{end}'\n",
    "\n",
    "# Common constants for Legacy and Pageviews\n",
    "project_domain = 'en.wikipedia.org'\n",
    "granularity = 'monthly'\n",
    "\n",
    "# Constants for Legacy\n",
    "access_desktop_legacy, access_mobile_legacy = 'desktop_site', 'mobile-site'\n",
    "start_time_legacy = 2007120100 # December 2007\n",
    "end_time_legacy = 2016080100 # Ending July 2016\n",
    "\n",
    "# Constants for Pageviews\n",
    "access_desktop_pageviews, access_mobileapp_pageviews, access_mobileweb_pageviews = 'desktop', 'mobile-app', 'mobile-web'\n",
    "agent_pageviews = 'user'\n",
    "start_time_pageviews = 2015070100 # July 2015\n",
    "end_time_pageviews = 2021100100 # Ending September 2021\n",
    "\n",
    "headers = {\n",
    "    'User-Agent': 'https://github.com/StaceyWheeler',\n",
    "    'From': 'swheele@uw.edu'\n",
    "}\n",
    "\n",
    "RAW_DATA_PATH = '../data/raw'\n",
    "# PROCESSED_DATA_PATH = '../data/processed'\n",
    "# VISUALIZATIONS_DATA_PATH = '../data/visualizations'\n",
    "\n",
    "# PROCESSED_CSV_FILE_NAME = 'en-wikipedia_traffic_200712-202109.csv'\n",
    "# GRAPH_FILE_NAME = 'en-wikipedia_traffic_200712-202109.png'"
   ]
  },
  {
   "cell_type": "code",
   "execution_count": 3,
   "metadata": {},
   "outputs": [],
   "source": [
    "def api_call(endpoint,parameters):\n",
    "    call = requests.get(endpoint.format(**parameters), headers=headers)\n",
    "    response = call.json()\n",
    "    \n",
    "    return response"
   ]
  },
  {
   "cell_type": "code",
   "execution_count": 4,
   "metadata": {},
   "outputs": [],
   "source": [
    "def get_data():\n",
    "    \n",
    "    for access in [access_desktop_legacy, access_mobile_legacy]:\n",
    "        \n",
    "        parameters_legacy = {\n",
    "                                'project': project_domain,\n",
    "                                'access-site': access,\n",
    "                                'granularity': granularity,\n",
    "                                'start': start_time_legacy,\n",
    "                                'end': end_time_legacy\n",
    "                            }\n",
    "        \n",
    "        monthly_legacy = api_call(endpoint_legacy, parameters_legacy)\n",
    "        \n",
    "        legacy_file_name = f'pagecounts_{access}_{start_time_legacy}-{end_time_legacy}.json'\n",
    "        file_path = os.path.join(RAW_DATA_PATH, legacy_file_name) \n",
    "        with open(file_path, 'w') as f:\n",
    "            json.dump(monthly_legacy, f)\n",
    "            \n",
    "    for access in [access_desktop_pageviews, access_mobileapp_pageviews, access_mobileweb_pageviews]:\n",
    "            \n",
    "        parameters_pageviews = {\n",
    "                                    'project': project_domain,\n",
    "                                    'access': access,\n",
    "                                    'agent': agent_pageviews,\n",
    "                                    'granularity': granularity,\n",
    "                                    'start': start_time_pageviews,\n",
    "                                    'end': end_time_pageviews\n",
    "                                }\n",
    "            \n",
    "        monthly_pageviews = api_call(endpoint_pageviews, parameters_pageviews)\n",
    "        \n",
    "        pageviews_file_name = f'pagecounts_{access}_{start_time_pageviews}-{end_time_pageviews}.json'\n",
    "        file_path = os.path.join(RAW_DATA_PATH, pageviews_file_name) \n",
    "        with open(file_path, 'w') as f:\n",
    "            json.dump(monthly_pageviews, f)"
   ]
  },
  {
   "cell_type": "code",
   "execution_count": 5,
   "metadata": {},
   "outputs": [],
   "source": [
    "get_data()"
   ]
  },
  {
   "cell_type": "code",
   "execution_count": null,
   "metadata": {},
   "outputs": [],
   "source": []
  },
  {
   "cell_type": "code",
   "execution_count": null,
   "metadata": {},
   "outputs": [],
   "source": []
  },
  {
   "cell_type": "code",
   "execution_count": null,
   "metadata": {},
   "outputs": [],
   "source": []
  }
 ],
 "metadata": {
  "kernelspec": {
   "display_name": "Python 3",
   "language": "python",
   "name": "python3"
  },
  "language_info": {
   "codemirror_mode": {
    "name": "ipython",
    "version": 3
   },
   "file_extension": ".py",
   "mimetype": "text/x-python",
   "name": "python",
   "nbconvert_exporter": "python",
   "pygments_lexer": "ipython3",
   "version": "3.8.5"
  }
 },
 "nbformat": 4,
 "nbformat_minor": 4
}
